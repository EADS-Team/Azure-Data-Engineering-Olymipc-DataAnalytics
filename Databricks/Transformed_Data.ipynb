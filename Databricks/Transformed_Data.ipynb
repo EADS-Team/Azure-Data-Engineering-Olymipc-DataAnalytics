{
 "cells": [
  {
   "cell_type": "code",
   "execution_count": 0,
   "metadata": {
    "application/vnd.databricks.v1+cell": {
     "cellMetadata": {
      "byteLimit": 2048000,
      "rowLimit": 10000
     },
     "inputWidgets": {},
     "nuid": "c48a7675-63f2-4f3b-86d6-d061dd564bf6",
     "showTitle": false,
     "tableResultSettingsMap": {},
     "title": ""
    }
   },
   "outputs": [
    {
     "output_type": "execute_result",
     "data": {
      "text/plain": [
       "[FileInfo(path='dbfs:/mnt/rawdataset/Athletes.csv', name='Athletes.csv', size=484927, modificationTime=1742979787000),\n",
       " FileInfo(path='dbfs:/mnt/rawdataset/Coaches.csv', name='Coaches.csv', size=19752, modificationTime=1742979802000),\n",
       " FileInfo(path='dbfs:/mnt/rawdataset/Entries.csv', name='Entries.csv', size=1491, modificationTime=1742979817000),\n",
       " FileInfo(path='dbfs:/mnt/rawdataset/Medals.csv', name='Medals.csv', size=3711, modificationTime=1742979832000),\n",
       " FileInfo(path='dbfs:/mnt/rawdataset/Teams.csv', name='Teams.csv', size=41208, modificationTime=1742979848000)]"
      ]
     },
     "execution_count": 1,
     "metadata": {},
     "output_type": "execute_result"
    }
   ],
   "source": [
    "dbutils.fs.ls('mnt/rawdataset')"
   ]
  },
  {
   "cell_type": "code",
   "execution_count": 0,
   "metadata": {
    "application/vnd.databricks.v1+cell": {
     "cellMetadata": {
      "byteLimit": 2048000,
      "rowLimit": 10000
     },
     "inputWidgets": {},
     "nuid": "529690a3-9dbd-4ad0-b8f1-52d01e651368",
     "showTitle": false,
     "tableResultSettingsMap": {},
     "title": ""
    }
   },
   "outputs": [],
   "source": [
    "# Read Athletes.csv\n",
    "athletes_df = spark.read.format(\"csv\") \\\n",
    "    .option(\"header\", \"true\") \\\n",
    "    .option(\"inferSchema\", \"true\") \\\n",
    "    .load(\"dbfs:/mnt/rawdataset/Athletes.csv\")\n",
    "\n",
    "# Read Coaches.csv\n",
    "coaches_df = spark.read.format(\"csv\") \\\n",
    "    .option(\"header\", \"true\") \\\n",
    "    .option(\"inferSchema\", \"true\") \\\n",
    "    .load(\"dbfs:/mnt/rawdataset/Coaches.csv\")\n",
    "\n",
    "# Read Entries.csv\n",
    "entries_df = spark.read.format(\"csv\") \\\n",
    "    .option(\"header\", \"true\") \\\n",
    "    .option(\"inferSchema\", \"true\") \\\n",
    "    .load(\"dbfs:/mnt/rawdataset/Entries.csv\")\n",
    "\n",
    "# Read Medals.csv\n",
    "medals_df = spark.read.format(\"csv\") \\\n",
    "    .option(\"header\", \"true\") \\\n",
    "    .option(\"inferSchema\", \"true\") \\\n",
    "    .load(\"dbfs:/mnt/rawdataset/Medals.csv\")\n",
    "\n",
    "# Read Teams.csv\n",
    "teams_df = spark.read.format(\"csv\") \\\n",
    "    .option(\"header\", \"true\") \\\n",
    "    .option(\"inferSchema\", \"true\") \\\n",
    "    .load(\"dbfs:/mnt/rawdataset/Teams.csv\")\n"
   ]
  },
  {
   "cell_type": "code",
   "execution_count": 0,
   "metadata": {
    "application/vnd.databricks.v1+cell": {
     "cellMetadata": {
      "byteLimit": 2048000,
      "rowLimit": 10000
     },
     "inputWidgets": {},
     "nuid": "7dc5566f-9739-4786-96ab-575b5140fbbc",
     "showTitle": false,
     "tableResultSettingsMap": {},
     "title": ""
    }
   },
   "outputs": [
    {
     "output_type": "stream",
     "name": "stdout",
     "output_type": "stream",
     "text": [
      "+-----------------+------+-------------------+\n|             Name|   NOC|         Discipline|\n+-----------------+------+-------------------+\n|  AALERUD Katrine|Norway|       Cycling Road|\n|      ABAD Nestor| Spain|Artistic Gymnastics|\n|ABAGNALE Giovanni| Italy|             Rowing|\n|   ABALDE Alberto| Spain|         Basketball|\n|    ABALDE Tamara| Spain|         Basketball|\n+-----------------+------+-------------------+\nonly showing top 5 rows\n\nroot\n |-- Name: string (nullable = true)\n |-- NOC: string (nullable = true)\n |-- Discipline: string (nullable = true)\n\n+---------------+-------------+----------+-----+\n|           Name|          NOC|Discipline|Event|\n+---------------+-------------+----------+-----+\n|ABDELMAGID Wael|        Egypt|  Football| NULL|\n|      ABE Junya|        Japan|Volleyball| NULL|\n|  ABE Katsuhiko|        Japan|Basketball| NULL|\n|   ADAMA Cherif|Côte d'Ivoire|  Football| NULL|\n|     AGEBA Yuya|        Japan|Volleyball| NULL|\n+---------------+-------------+----------+-----+\nonly showing top 5 rows\n\nroot\n |-- Name: string (nullable = true)\n |-- NOC: string (nullable = true)\n |-- Discipline: string (nullable = true)\n |-- Event: string (nullable = true)\n\n+-------------------+------+----+-----+\n|         Discipline|Female|Male|Total|\n+-------------------+------+----+-----+\n|     3x3 Basketball|    32|  32|   64|\n|            Archery|    64|  64|  128|\n|Artistic Gymnastics|    98|  98|  196|\n|  Artistic Swimming|   105|   0|  105|\n|          Athletics|   969|1072| 2041|\n+-------------------+------+----+-----+\nonly showing top 5 rows\n\nroot\n |-- Discipline: string (nullable = true)\n |-- Female: integer (nullable = true)\n |-- Male: integer (nullable = true)\n |-- Total: integer (nullable = true)\n\n+----+--------------------+----+------+------+-----+-------------+\n|Rank|            Team/NOC|Gold|Silver|Bronze|Total|Rank by Total|\n+----+--------------------+----+------+------+-----+-------------+\n|   1|United States of ...|  39|    41|    33|  113|            1|\n|   2|People's Republic...|  38|    32|    18|   88|            2|\n|   3|               Japan|  27|    14|    17|   58|            5|\n|   4|       Great Britain|  22|    21|    22|   65|            4|\n|   5|                 ROC|  20|    28|    23|   71|            3|\n+----+--------------------+----+------+------+-----+-------------+\nonly showing top 5 rows\n\nroot\n |-- Rank: integer (nullable = true)\n |-- Team/NOC: string (nullable = true)\n |-- Gold: integer (nullable = true)\n |-- Silver: integer (nullable = true)\n |-- Bronze: integer (nullable = true)\n |-- Total: integer (nullable = true)\n |-- Rank by Total: integer (nullable = true)\n\n+-------+--------------+--------------------+-----+\n|   Name|    Discipline|                 NOC|Event|\n+-------+--------------+--------------------+-----+\n|Belgium|3x3 Basketball|             Belgium|  Men|\n|  China|3x3 Basketball|People's Republic...|  Men|\n|  China|3x3 Basketball|People's Republic...|Women|\n| France|3x3 Basketball|              France|Women|\n|  Italy|3x3 Basketball|               Italy|Women|\n+-------+--------------+--------------------+-----+\nonly showing top 5 rows\n\nroot\n |-- Name: string (nullable = true)\n |-- Discipline: string (nullable = true)\n |-- NOC: string (nullable = true)\n |-- Event: string (nullable = true)\n\n"
     ]
    }
   ],
   "source": [
    "athletes_df.show(5)\n",
    "athletes_df.printSchema()\n",
    "coaches_df.show(5)\n",
    "coaches_df.printSchema()\n",
    "entries_df.show(5)\n",
    "entries_df.printSchema()\n",
    "medals_df.show(5)\n",
    "medals_df.printSchema()\n",
    "teams_df.show(5)\n",
    "teams_df.printSchema()"
   ]
  },
  {
   "cell_type": "code",
   "execution_count": 0,
   "metadata": {
    "application/vnd.databricks.v1+cell": {
     "cellMetadata": {
      "byteLimit": 2048000,
      "rowLimit": 10000
     },
     "inputWidgets": {},
     "nuid": "45e03e33-497c-4d6c-b114-f6e2d50ce036",
     "showTitle": false,
     "tableResultSettingsMap": {},
     "title": ""
    }
   },
   "outputs": [
    {
     "output_type": "execute_result",
     "data": {
      "text/plain": [
       "[]"
      ]
     },
     "execution_count": 6,
     "metadata": {},
     "output_type": "execute_result"
    }
   ],
   "source": [
    "dbutils.fs.ls('mnt/transformeddataset')"
   ]
  },
  {
   "cell_type": "code",
   "execution_count": 0,
   "metadata": {
    "application/vnd.databricks.v1+cell": {
     "cellMetadata": {
      "byteLimit": 2048000,
      "rowLimit": 10000
     },
     "inputWidgets": {},
     "nuid": "0c952778-9031-4900-8f67-6927042d2bc5",
     "showTitle": false,
     "tableResultSettingsMap": {},
     "title": ""
    }
   },
   "outputs": [
    {
     "output_type": "stream",
     "name": "stdout",
     "output_type": "stream",
     "text": [
      "CSV files written successfully!\nRenamed part-00000-tid-1364689936785503009-e9fcb526-f0f8-4e9b-bca8-c99b88624b4b-156-1-c000.csv to Athletes.csv\nRenamed part-00000-tid-8085162593155327292-cb96fe8f-9cba-4f15-bdbf-31c026f5ab8d-157-1-c000.csv to Coaches.csv\nRenamed part-00000-tid-1911099204342266522-823cc716-bf8d-4ea2-b503-b161b21ec5c5-158-1-c000.csv to Entries.csv\nRenamed part-00000-tid-1804874808333497218-300ce626-7d86-430f-aca1-9bc178192efb-159-1-c000.csv to Medals.csv\nRenamed part-00000-tid-8869482876843796884-5a937e51-5155-47d8-ae9a-7f061cc06b7b-160-1-c000.csv to Teams.csv\nAll files renamed successfully!\n"
     ]
    }
   ],
   "source": [
    "# Step 1: Define the correct target path\n",
    "target_path = \"dbfs:/mnt/transformeddataset/\"\n",
    "\n",
    "# Step 2: Write CSV files (Spark will create 'part-*.csv')\n",
    "athletes_df.coalesce(1).write.mode(\"overwrite\").option(\"header\", \"true\").csv(target_path + \"Athletes\")\n",
    "coaches_df.coalesce(1).write.mode(\"overwrite\").option(\"header\", \"true\").csv(target_path + \"Coaches\")\n",
    "entries_df.coalesce(1).write.mode(\"overwrite\").option(\"header\", \"true\").csv(target_path + \"Entries\")\n",
    "medals_df.coalesce(1).write.mode(\"overwrite\").option(\"header\", \"true\").csv(target_path + \"Medals\")\n",
    "teams_df.coalesce(1).write.mode(\"overwrite\").option(\"header\", \"true\").csv(target_path + \"Teams\")\n",
    "\n",
    "print(\"CSV files written successfully!\")\n",
    "\n",
    "# Step 3: Rename files after writing\n",
    "def rename_csv_file(folder_name, new_name):\n",
    "    files = dbutils.fs.ls(target_path + folder_name)\n",
    "    for file in files:\n",
    "        if file.name.startswith(\"part-\") and file.name.endswith(\".csv\"):  \n",
    "            source_path = file.path\n",
    "            destination_path = target_path + folder_name + \"/\" + new_name\n",
    "            dbutils.fs.mv(source_path, destination_path)  \n",
    "            print(f\"Renamed {file.name} to {new_name}\")\n",
    "\n",
    "rename_csv_file(\"Athletes\", \"Athletes.csv\")\n",
    "rename_csv_file(\"Coaches\", \"Coaches.csv\")\n",
    "rename_csv_file(\"Entries\", \"Entries.csv\")\n",
    "rename_csv_file(\"Medals\", \"Medals.csv\")\n",
    "rename_csv_file(\"Teams\", \"Teams.csv\")\n",
    "\n",
    "print(\"All files renamed successfully!\")\n"
   ]
  }
 ],
 "metadata": {
  "application/vnd.databricks.v1+notebook": {
   "computePreferences": null,
   "dashboards": [],
   "environmentMetadata": {
    "base_environment": "",
    "environment_version": "2"
   },
   "language": "python",
   "notebookMetadata": {
    "pythonIndentUnit": 4
   },
   "notebookName": "Transformed_Data",
   "widgets": {}
  },
  "language_info": {
   "name": "python"
  }
 },
 "nbformat": 4,
 "nbformat_minor": 0
}